{
 "cells": [
  {
   "cell_type": "markdown",
   "metadata": {},
   "source": [
    "#Wine Quality Prediction through SVM and LR\n",
    "- Data Exploration and Preprocessing\n",
    "\n",
    "    - Explore the dataset thoroughly and provide a summary of your observations.\n",
    "    - Perform necessary preprocessing steps:\n",
    "        * Preparing feature values to be used by your models.\n",
    "        * Optionally, data augmentation techniques.\n",
    "        * Splitting the data into training and test sets appropriately.\n",
    "\n",
    "- SVM and LR Implementation\n",
    "    - Implement both SVM and LR from scratch. Evaluate and compare their performance.\n",
    "    - Clearly define the two models and describe your implementation, also listing their hyperparameters if any.\n",
    "    - Train the two models using an appropriate performance metric.\n",
    "    - Demonstrate proper hyperparameter tuning, and evaluate at least one of your models using accuracy estimates via 5-fold cross-validation.\n",
    "\n",
    "- Kernel Methods\n",
    "    - Extend the above models to a kernelized form by adopting non-linear kernels.\n",
    "    - Clearly describe how the kernelization happens and its consequences for both predictions and performance.\n",
    "    - Comment on how the kernelized models compare with respect to the standard ones.\n",
    "\n",
    "- Evaluation and Analysis\n",
    "    - Evaluate your model performance using suitable metrics such as accuracy, precision, recall, and F1-score.\n",
    "    - Provide appropriate visualizations of the performance of each model (loss and accuracy).\n",
    "    - When reasonable, conduct an analysis of misclassified examples to understand potential model limitations.\n",
    "    - Discuss the presence or absence of overfitting and underfitting at any point."
   ]
  },
  {
   "cell_type": "code",
   "execution_count": null,
   "metadata": {},
   "outputs": [],
   "source": [
    "import pandas as pd\n",
    "import numpy as np\n",
    "import matplotlib.pyplot as plt\n",
    "from sklearn.model_selection import train_test_split\n",
    "#"
   ]
  }
 ],
 "metadata": {
  "kernelspec": {
   "display_name": "Python 3",
   "language": "python",
   "name": "python3"
  },
  "language_info": {
   "codemirror_mode": {
    "name": "ipython",
    "version": 3
   },
   "file_extension": ".py",
   "mimetype": "text/x-python",
   "name": "python",
   "nbconvert_exporter": "python",
   "pygments_lexer": "ipython3",
   "version": "3.11.5"
  }
 },
 "nbformat": 4,
 "nbformat_minor": 2
}
