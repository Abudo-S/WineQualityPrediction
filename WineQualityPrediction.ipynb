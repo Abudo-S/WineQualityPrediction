{
  "cells": [
    {
      "cell_type": "markdown",
      "metadata": {
        "id": "fAWUSxGhlu3P"
      },
      "source": [
        "#Wine Quality Prediction through SVM and LR\n",
        "- Data Exploration and Preprocessing\n",
        "\n",
        "    - Explore the dataset thoroughly and provide a summary of your observations.\n",
        "    - Perform necessary preprocessing steps:\n",
        "        * Preparing feature values to be used by your models.\n",
        "        * Optionally, data augmentation techniques.\n",
        "        * Splitting the data into training and test sets appropriately.\n",
        "\n",
        "- SVM and LR Implementation\n",
        "    - Implement both SVM and LR from scratch. Evaluate and compare their performance.\n",
        "    - Clearly define the two models and describe your implementation, also listing their hyperparameters if any.\n",
        "    - Train the two models using an appropriate performance metric.\n",
        "    - Demonstrate proper hyperparameter tuning, and evaluate at least one of your models using accuracy estimates via 5-fold cross-validation.\n",
        "\n",
        "- Kernel Methods\n",
        "    - Extend the above models to a kernelized form by adopting non-linear kernels.\n",
        "    - Clearly describe how the kernelization happens and its consequences for both predictions and performance.\n",
        "    - Comment on how the kernelized models compare with respect to the standard ones.\n",
        "\n",
        "- Evaluation and Analysis\n",
        "    - Evaluate your model performance using suitable metrics such as accuracy, precision, recall, and F1-score.\n",
        "    - Provide appropriate visualizations of the performance of each model (loss and accuracy).\n",
        "    - When reasonable, conduct an analysis of misclassified examples to understand potential model limitations.\n",
        "    - Discuss the presence or absence of overfitting and underfitting at any point."
      ]
    },
    {
      "cell_type": "code",
      "execution_count": 122,
      "metadata": {
        "id": "KLw7PKRQlu3T",
        "colab": {
          "base_uri": "https://localhost:8080/"
        },
        "outputId": "d54d065e-d99c-458d-976b-b49f9a7974a5"
      },
      "outputs": [
        {
          "output_type": "stream",
          "name": "stdout",
          "text": [
            "/content\n",
            ".:\n",
            "sample_data  WineQualityPrediction\n",
            "\n",
            "./sample_data:\n",
            "anscombe.json\t\t      mnist_test.csv\n",
            "california_housing_test.csv   mnist_train_small.csv\n",
            "california_housing_train.csv  README.md\n",
            "\n",
            "./WineQualityPrediction:\n",
            "LogisticRegression.py  SVM.py\t     WineQualityPrediction.ipynb\n",
            "__pycache__\t       wine+quality\n",
            "\n",
            "./WineQualityPrediction/__pycache__:\n",
            "LogisticRegression.cpython-311.pyc  SVM.cpython-311.pyc\n",
            "\n",
            "./WineQualityPrediction/wine+quality:\n",
            "winequality.names  winequality-red.csv\twinequality-white.csv\n",
            "/content/WineQualityPrediction\n"
          ]
        }
      ],
      "source": [
        "import pandas as pd\n",
        "import numpy as np\n",
        "import matplotlib.pyplot as plt\n",
        "from sklearn import preprocessing\n",
        "from sklearn.model_selection import train_test_split\n",
        "#to output plots within the notebook\n",
        "%matplotlib inline\n",
        "\n",
        "import importlib\n",
        "import inspect\n",
        "import os\n",
        "import sys\n",
        "\n",
        "%cd /content/\n",
        "!ls -R\n",
        "repo_name = \"WineQualityPrediction\"\n",
        "#!rm -rf {repo_name}\n",
        "if not os.path.exists(repo_name):\n",
        "    print(f\"Directory {repo_name} does not exist, proceeding with clone.\")\n",
        "    !git clone https://github.com/Abudo-S/WineQualityPrediction.git\n",
        "\n",
        "%cd WineQualityPrediction\n",
        "\n",
        "import SVM\n",
        "import LogisticRegression\n",
        "importlib.reload(SVM) # in case of updates\n",
        "importlib.reload(LogisticRegression) # in case of updates\n",
        "from SVM import SVM\n",
        "from LogisticRegression import LogisticRegression"
      ]
    },
    {
      "cell_type": "markdown",
      "source": [
        "# General observations:\n",
        "- The red-wine dataset as well as the white-wine dataset have the same features labeled with the same target feature \"quality\".\n",
        "- All feature values are numeric with no NaN values.\n",
        "- Both datasets contain some duplicated instances.\n",
        "- We'd need to combine both datasets in order to develop a universal model for both of red and white wines, by introducing a new feature 'wine_type' valorized with 1: for red wine instance, 0: for white wine instance.\n",
        "In fact, introducing a new feature for the wine type the learning model would be to build relationships between the wine type and the other features.\n",
        "By combining both datasets, we're increasing the training-set volume which gives the possibility to the learning model to see further records, so it reduces the risk of overfitting."
      ],
      "metadata": {
        "id": "UnZXz7eYtDgg"
      }
    },
    {
      "cell_type": "code",
      "source": [
        "red_wine_quality = pd.read_csv(\"/content/WineQualityPrediction/wine+quality/winequality-red.csv\", sep=';')\n",
        "red_wine_quality.info()\n",
        "\n",
        "white_wine_quality = pd.read_csv(\"/content/WineQualityPrediction/wine+quality/winequality-white.csv\", sep=';')\n",
        "white_wine_quality.info()"
      ],
      "metadata": {
        "id": "cyzKIIDWnRuc",
        "outputId": "f8d0c3a7-4d88-4d47-c973-0e19e3d241d3",
        "colab": {
          "base_uri": "https://localhost:8080/"
        }
      },
      "execution_count": 93,
      "outputs": [
        {
          "output_type": "stream",
          "name": "stdout",
          "text": [
            "<class 'pandas.core.frame.DataFrame'>\n",
            "RangeIndex: 1599 entries, 0 to 1598\n",
            "Data columns (total 12 columns):\n",
            " #   Column                Non-Null Count  Dtype  \n",
            "---  ------                --------------  -----  \n",
            " 0   fixed acidity         1599 non-null   float64\n",
            " 1   volatile acidity      1599 non-null   float64\n",
            " 2   citric acid           1599 non-null   float64\n",
            " 3   residual sugar        1599 non-null   float64\n",
            " 4   chlorides             1599 non-null   float64\n",
            " 5   free sulfur dioxide   1599 non-null   float64\n",
            " 6   total sulfur dioxide  1599 non-null   float64\n",
            " 7   density               1599 non-null   float64\n",
            " 8   pH                    1599 non-null   float64\n",
            " 9   sulphates             1599 non-null   float64\n",
            " 10  alcohol               1599 non-null   float64\n",
            " 11  quality               1599 non-null   int64  \n",
            "dtypes: float64(11), int64(1)\n",
            "memory usage: 150.0 KB\n",
            "<class 'pandas.core.frame.DataFrame'>\n",
            "RangeIndex: 4898 entries, 0 to 4897\n",
            "Data columns (total 12 columns):\n",
            " #   Column                Non-Null Count  Dtype  \n",
            "---  ------                --------------  -----  \n",
            " 0   fixed acidity         4898 non-null   float64\n",
            " 1   volatile acidity      4898 non-null   float64\n",
            " 2   citric acid           4898 non-null   float64\n",
            " 3   residual sugar        4898 non-null   float64\n",
            " 4   chlorides             4898 non-null   float64\n",
            " 5   free sulfur dioxide   4898 non-null   float64\n",
            " 6   total sulfur dioxide  4898 non-null   float64\n",
            " 7   density               4898 non-null   float64\n",
            " 8   pH                    4898 non-null   float64\n",
            " 9   sulphates             4898 non-null   float64\n",
            " 10  alcohol               4898 non-null   float64\n",
            " 11  quality               4898 non-null   int64  \n",
            "dtypes: float64(11), int64(1)\n",
            "memory usage: 459.3 KB\n"
          ]
        }
      ]
    },
    {
      "cell_type": "markdown",
      "source": [
        "Introduce feature \"wine_type\" in red_wine_quality and white_wine_quality datasets"
      ],
      "metadata": {
        "id": "WQ-K68Pf_CTR"
      }
    },
    {
      "cell_type": "code",
      "source": [
        "red_wine_quality['wine_type'] = 1 #red wine\n",
        "white_wine_quality['wine_type'] = 0 #white wine"
      ],
      "metadata": {
        "id": "PwUKYqAV-qIE"
      },
      "execution_count": 94,
      "outputs": []
    },
    {
      "cell_type": "markdown",
      "source": [
        "Combine red_wine_quality and white_wine_quality datasets"
      ],
      "metadata": {
        "id": "9PXx5IOY-7ed"
      }
    },
    {
      "cell_type": "code",
      "source": [
        "wine_quality = pd.concat([red_wine_quality, white_wine_quality], ignore_index=True);\n",
        "wine_quality.head()"
      ],
      "metadata": {
        "colab": {
          "base_uri": "https://localhost:8080/",
          "height": 241
        },
        "id": "OoOTTNxqS537",
        "outputId": "bc62360f-db0c-4073-dcbd-87d002e624c6"
      },
      "execution_count": 95,
      "outputs": [
        {
          "output_type": "execute_result",
          "data": {
            "text/plain": [
              "   fixed acidity  volatile acidity  citric acid  residual sugar  chlorides  \\\n",
              "0            7.4              0.70         0.00             1.9      0.076   \n",
              "1            7.8              0.88         0.00             2.6      0.098   \n",
              "2            7.8              0.76         0.04             2.3      0.092   \n",
              "3           11.2              0.28         0.56             1.9      0.075   \n",
              "4            7.4              0.70         0.00             1.9      0.076   \n",
              "\n",
              "   free sulfur dioxide  total sulfur dioxide  density    pH  sulphates  \\\n",
              "0                 11.0                  34.0   0.9978  3.51       0.56   \n",
              "1                 25.0                  67.0   0.9968  3.20       0.68   \n",
              "2                 15.0                  54.0   0.9970  3.26       0.65   \n",
              "3                 17.0                  60.0   0.9980  3.16       0.58   \n",
              "4                 11.0                  34.0   0.9978  3.51       0.56   \n",
              "\n",
              "   alcohol  quality  wine_type  \n",
              "0      9.4        5          1  \n",
              "1      9.8        5          1  \n",
              "2      9.8        5          1  \n",
              "3      9.8        6          1  \n",
              "4      9.4        5          1  "
            ],
            "text/html": [
              "\n",
              "  <div id=\"df-d7589d1c-6191-4018-a8d3-682c42129e1a\" class=\"colab-df-container\">\n",
              "    <div>\n",
              "<style scoped>\n",
              "    .dataframe tbody tr th:only-of-type {\n",
              "        vertical-align: middle;\n",
              "    }\n",
              "\n",
              "    .dataframe tbody tr th {\n",
              "        vertical-align: top;\n",
              "    }\n",
              "\n",
              "    .dataframe thead th {\n",
              "        text-align: right;\n",
              "    }\n",
              "</style>\n",
              "<table border=\"1\" class=\"dataframe\">\n",
              "  <thead>\n",
              "    <tr style=\"text-align: right;\">\n",
              "      <th></th>\n",
              "      <th>fixed acidity</th>\n",
              "      <th>volatile acidity</th>\n",
              "      <th>citric acid</th>\n",
              "      <th>residual sugar</th>\n",
              "      <th>chlorides</th>\n",
              "      <th>free sulfur dioxide</th>\n",
              "      <th>total sulfur dioxide</th>\n",
              "      <th>density</th>\n",
              "      <th>pH</th>\n",
              "      <th>sulphates</th>\n",
              "      <th>alcohol</th>\n",
              "      <th>quality</th>\n",
              "      <th>wine_type</th>\n",
              "    </tr>\n",
              "  </thead>\n",
              "  <tbody>\n",
              "    <tr>\n",
              "      <th>0</th>\n",
              "      <td>7.4</td>\n",
              "      <td>0.70</td>\n",
              "      <td>0.00</td>\n",
              "      <td>1.9</td>\n",
              "      <td>0.076</td>\n",
              "      <td>11.0</td>\n",
              "      <td>34.0</td>\n",
              "      <td>0.9978</td>\n",
              "      <td>3.51</td>\n",
              "      <td>0.56</td>\n",
              "      <td>9.4</td>\n",
              "      <td>5</td>\n",
              "      <td>1</td>\n",
              "    </tr>\n",
              "    <tr>\n",
              "      <th>1</th>\n",
              "      <td>7.8</td>\n",
              "      <td>0.88</td>\n",
              "      <td>0.00</td>\n",
              "      <td>2.6</td>\n",
              "      <td>0.098</td>\n",
              "      <td>25.0</td>\n",
              "      <td>67.0</td>\n",
              "      <td>0.9968</td>\n",
              "      <td>3.20</td>\n",
              "      <td>0.68</td>\n",
              "      <td>9.8</td>\n",
              "      <td>5</td>\n",
              "      <td>1</td>\n",
              "    </tr>\n",
              "    <tr>\n",
              "      <th>2</th>\n",
              "      <td>7.8</td>\n",
              "      <td>0.76</td>\n",
              "      <td>0.04</td>\n",
              "      <td>2.3</td>\n",
              "      <td>0.092</td>\n",
              "      <td>15.0</td>\n",
              "      <td>54.0</td>\n",
              "      <td>0.9970</td>\n",
              "      <td>3.26</td>\n",
              "      <td>0.65</td>\n",
              "      <td>9.8</td>\n",
              "      <td>5</td>\n",
              "      <td>1</td>\n",
              "    </tr>\n",
              "    <tr>\n",
              "      <th>3</th>\n",
              "      <td>11.2</td>\n",
              "      <td>0.28</td>\n",
              "      <td>0.56</td>\n",
              "      <td>1.9</td>\n",
              "      <td>0.075</td>\n",
              "      <td>17.0</td>\n",
              "      <td>60.0</td>\n",
              "      <td>0.9980</td>\n",
              "      <td>3.16</td>\n",
              "      <td>0.58</td>\n",
              "      <td>9.8</td>\n",
              "      <td>6</td>\n",
              "      <td>1</td>\n",
              "    </tr>\n",
              "    <tr>\n",
              "      <th>4</th>\n",
              "      <td>7.4</td>\n",
              "      <td>0.70</td>\n",
              "      <td>0.00</td>\n",
              "      <td>1.9</td>\n",
              "      <td>0.076</td>\n",
              "      <td>11.0</td>\n",
              "      <td>34.0</td>\n",
              "      <td>0.9978</td>\n",
              "      <td>3.51</td>\n",
              "      <td>0.56</td>\n",
              "      <td>9.4</td>\n",
              "      <td>5</td>\n",
              "      <td>1</td>\n",
              "    </tr>\n",
              "  </tbody>\n",
              "</table>\n",
              "</div>\n",
              "    <div class=\"colab-df-buttons\">\n",
              "\n",
              "  <div class=\"colab-df-container\">\n",
              "    <button class=\"colab-df-convert\" onclick=\"convertToInteractive('df-d7589d1c-6191-4018-a8d3-682c42129e1a')\"\n",
              "            title=\"Convert this dataframe to an interactive table.\"\n",
              "            style=\"display:none;\">\n",
              "\n",
              "  <svg xmlns=\"http://www.w3.org/2000/svg\" height=\"24px\" viewBox=\"0 -960 960 960\">\n",
              "    <path d=\"M120-120v-720h720v720H120Zm60-500h600v-160H180v160Zm220 220h160v-160H400v160Zm0 220h160v-160H400v160ZM180-400h160v-160H180v160Zm440 0h160v-160H620v160ZM180-180h160v-160H180v160Zm440 0h160v-160H620v160Z\"/>\n",
              "  </svg>\n",
              "    </button>\n",
              "\n",
              "  <style>\n",
              "    .colab-df-container {\n",
              "      display:flex;\n",
              "      gap: 12px;\n",
              "    }\n",
              "\n",
              "    .colab-df-convert {\n",
              "      background-color: #E8F0FE;\n",
              "      border: none;\n",
              "      border-radius: 50%;\n",
              "      cursor: pointer;\n",
              "      display: none;\n",
              "      fill: #1967D2;\n",
              "      height: 32px;\n",
              "      padding: 0 0 0 0;\n",
              "      width: 32px;\n",
              "    }\n",
              "\n",
              "    .colab-df-convert:hover {\n",
              "      background-color: #E2EBFA;\n",
              "      box-shadow: 0px 1px 2px rgba(60, 64, 67, 0.3), 0px 1px 3px 1px rgba(60, 64, 67, 0.15);\n",
              "      fill: #174EA6;\n",
              "    }\n",
              "\n",
              "    .colab-df-buttons div {\n",
              "      margin-bottom: 4px;\n",
              "    }\n",
              "\n",
              "    [theme=dark] .colab-df-convert {\n",
              "      background-color: #3B4455;\n",
              "      fill: #D2E3FC;\n",
              "    }\n",
              "\n",
              "    [theme=dark] .colab-df-convert:hover {\n",
              "      background-color: #434B5C;\n",
              "      box-shadow: 0px 1px 3px 1px rgba(0, 0, 0, 0.15);\n",
              "      filter: drop-shadow(0px 1px 2px rgba(0, 0, 0, 0.3));\n",
              "      fill: #FFFFFF;\n",
              "    }\n",
              "  </style>\n",
              "\n",
              "    <script>\n",
              "      const buttonEl =\n",
              "        document.querySelector('#df-d7589d1c-6191-4018-a8d3-682c42129e1a button.colab-df-convert');\n",
              "      buttonEl.style.display =\n",
              "        google.colab.kernel.accessAllowed ? 'block' : 'none';\n",
              "\n",
              "      async function convertToInteractive(key) {\n",
              "        const element = document.querySelector('#df-d7589d1c-6191-4018-a8d3-682c42129e1a');\n",
              "        const dataTable =\n",
              "          await google.colab.kernel.invokeFunction('convertToInteractive',\n",
              "                                                    [key], {});\n",
              "        if (!dataTable) return;\n",
              "\n",
              "        const docLinkHtml = 'Like what you see? Visit the ' +\n",
              "          '<a target=\"_blank\" href=https://colab.research.google.com/notebooks/data_table.ipynb>data table notebook</a>'\n",
              "          + ' to learn more about interactive tables.';\n",
              "        element.innerHTML = '';\n",
              "        dataTable['output_type'] = 'display_data';\n",
              "        await google.colab.output.renderOutput(dataTable, element);\n",
              "        const docLink = document.createElement('div');\n",
              "        docLink.innerHTML = docLinkHtml;\n",
              "        element.appendChild(docLink);\n",
              "      }\n",
              "    </script>\n",
              "  </div>\n",
              "\n",
              "\n",
              "    <div id=\"df-385f9ffe-42e1-41f2-a6ad-ab938a854aec\">\n",
              "      <button class=\"colab-df-quickchart\" onclick=\"quickchart('df-385f9ffe-42e1-41f2-a6ad-ab938a854aec')\"\n",
              "                title=\"Suggest charts\"\n",
              "                style=\"display:none;\">\n",
              "\n",
              "<svg xmlns=\"http://www.w3.org/2000/svg\" height=\"24px\"viewBox=\"0 0 24 24\"\n",
              "     width=\"24px\">\n",
              "    <g>\n",
              "        <path d=\"M19 3H5c-1.1 0-2 .9-2 2v14c0 1.1.9 2 2 2h14c1.1 0 2-.9 2-2V5c0-1.1-.9-2-2-2zM9 17H7v-7h2v7zm4 0h-2V7h2v10zm4 0h-2v-4h2v4z\"/>\n",
              "    </g>\n",
              "</svg>\n",
              "      </button>\n",
              "\n",
              "<style>\n",
              "  .colab-df-quickchart {\n",
              "      --bg-color: #E8F0FE;\n",
              "      --fill-color: #1967D2;\n",
              "      --hover-bg-color: #E2EBFA;\n",
              "      --hover-fill-color: #174EA6;\n",
              "      --disabled-fill-color: #AAA;\n",
              "      --disabled-bg-color: #DDD;\n",
              "  }\n",
              "\n",
              "  [theme=dark] .colab-df-quickchart {\n",
              "      --bg-color: #3B4455;\n",
              "      --fill-color: #D2E3FC;\n",
              "      --hover-bg-color: #434B5C;\n",
              "      --hover-fill-color: #FFFFFF;\n",
              "      --disabled-bg-color: #3B4455;\n",
              "      --disabled-fill-color: #666;\n",
              "  }\n",
              "\n",
              "  .colab-df-quickchart {\n",
              "    background-color: var(--bg-color);\n",
              "    border: none;\n",
              "    border-radius: 50%;\n",
              "    cursor: pointer;\n",
              "    display: none;\n",
              "    fill: var(--fill-color);\n",
              "    height: 32px;\n",
              "    padding: 0;\n",
              "    width: 32px;\n",
              "  }\n",
              "\n",
              "  .colab-df-quickchart:hover {\n",
              "    background-color: var(--hover-bg-color);\n",
              "    box-shadow: 0 1px 2px rgba(60, 64, 67, 0.3), 0 1px 3px 1px rgba(60, 64, 67, 0.15);\n",
              "    fill: var(--button-hover-fill-color);\n",
              "  }\n",
              "\n",
              "  .colab-df-quickchart-complete:disabled,\n",
              "  .colab-df-quickchart-complete:disabled:hover {\n",
              "    background-color: var(--disabled-bg-color);\n",
              "    fill: var(--disabled-fill-color);\n",
              "    box-shadow: none;\n",
              "  }\n",
              "\n",
              "  .colab-df-spinner {\n",
              "    border: 2px solid var(--fill-color);\n",
              "    border-color: transparent;\n",
              "    border-bottom-color: var(--fill-color);\n",
              "    animation:\n",
              "      spin 1s steps(1) infinite;\n",
              "  }\n",
              "\n",
              "  @keyframes spin {\n",
              "    0% {\n",
              "      border-color: transparent;\n",
              "      border-bottom-color: var(--fill-color);\n",
              "      border-left-color: var(--fill-color);\n",
              "    }\n",
              "    20% {\n",
              "      border-color: transparent;\n",
              "      border-left-color: var(--fill-color);\n",
              "      border-top-color: var(--fill-color);\n",
              "    }\n",
              "    30% {\n",
              "      border-color: transparent;\n",
              "      border-left-color: var(--fill-color);\n",
              "      border-top-color: var(--fill-color);\n",
              "      border-right-color: var(--fill-color);\n",
              "    }\n",
              "    40% {\n",
              "      border-color: transparent;\n",
              "      border-right-color: var(--fill-color);\n",
              "      border-top-color: var(--fill-color);\n",
              "    }\n",
              "    60% {\n",
              "      border-color: transparent;\n",
              "      border-right-color: var(--fill-color);\n",
              "    }\n",
              "    80% {\n",
              "      border-color: transparent;\n",
              "      border-right-color: var(--fill-color);\n",
              "      border-bottom-color: var(--fill-color);\n",
              "    }\n",
              "    90% {\n",
              "      border-color: transparent;\n",
              "      border-bottom-color: var(--fill-color);\n",
              "    }\n",
              "  }\n",
              "</style>\n",
              "\n",
              "      <script>\n",
              "        async function quickchart(key) {\n",
              "          const quickchartButtonEl =\n",
              "            document.querySelector('#' + key + ' button');\n",
              "          quickchartButtonEl.disabled = true;  // To prevent multiple clicks.\n",
              "          quickchartButtonEl.classList.add('colab-df-spinner');\n",
              "          try {\n",
              "            const charts = await google.colab.kernel.invokeFunction(\n",
              "                'suggestCharts', [key], {});\n",
              "          } catch (error) {\n",
              "            console.error('Error during call to suggestCharts:', error);\n",
              "          }\n",
              "          quickchartButtonEl.classList.remove('colab-df-spinner');\n",
              "          quickchartButtonEl.classList.add('colab-df-quickchart-complete');\n",
              "        }\n",
              "        (() => {\n",
              "          let quickchartButtonEl =\n",
              "            document.querySelector('#df-385f9ffe-42e1-41f2-a6ad-ab938a854aec button');\n",
              "          quickchartButtonEl.style.display =\n",
              "            google.colab.kernel.accessAllowed ? 'block' : 'none';\n",
              "        })();\n",
              "      </script>\n",
              "    </div>\n",
              "\n",
              "    </div>\n",
              "  </div>\n"
            ],
            "application/vnd.google.colaboratory.intrinsic+json": {
              "type": "dataframe",
              "variable_name": "wine_quality",
              "summary": "{\n  \"name\": \"wine_quality\",\n  \"rows\": 6497,\n  \"fields\": [\n    {\n      \"column\": \"fixed acidity\",\n      \"properties\": {\n        \"dtype\": \"number\",\n        \"std\": 1.296433757799792,\n        \"min\": 3.8,\n        \"max\": 15.9,\n        \"num_unique_values\": 106,\n        \"samples\": [\n          7.15,\n          8.1,\n          7.3\n        ],\n        \"semantic_type\": \"\",\n        \"description\": \"\"\n      }\n    },\n    {\n      \"column\": \"volatile acidity\",\n      \"properties\": {\n        \"dtype\": \"number\",\n        \"std\": 0.1646364740846772,\n        \"min\": 0.08,\n        \"max\": 1.58,\n        \"num_unique_values\": 187,\n        \"samples\": [\n          0.405,\n          0.21,\n          0.695\n        ],\n        \"semantic_type\": \"\",\n        \"description\": \"\"\n      }\n    },\n    {\n      \"column\": \"citric acid\",\n      \"properties\": {\n        \"dtype\": \"number\",\n        \"std\": 0.14531786489759185,\n        \"min\": 0.0,\n        \"max\": 1.66,\n        \"num_unique_values\": 89,\n        \"samples\": [\n          0.1,\n          0.6,\n          0.37\n        ],\n        \"semantic_type\": \"\",\n        \"description\": \"\"\n      }\n    },\n    {\n      \"column\": \"residual sugar\",\n      \"properties\": {\n        \"dtype\": \"number\",\n        \"std\": 4.757803743147445,\n        \"min\": 0.6,\n        \"max\": 65.8,\n        \"num_unique_values\": 316,\n        \"samples\": [\n          18.95,\n          3.2,\n          9.3\n        ],\n        \"semantic_type\": \"\",\n        \"description\": \"\"\n      }\n    },\n    {\n      \"column\": \"chlorides\",\n      \"properties\": {\n        \"dtype\": \"number\",\n        \"std\": 0.03503360137245906,\n        \"min\": 0.009,\n        \"max\": 0.611,\n        \"num_unique_values\": 214,\n        \"samples\": [\n          0.089,\n          0.217,\n          0.1\n        ],\n        \"semantic_type\": \"\",\n        \"description\": \"\"\n      }\n    },\n    {\n      \"column\": \"free sulfur dioxide\",\n      \"properties\": {\n        \"dtype\": \"number\",\n        \"std\": 17.74939977200255,\n        \"min\": 1.0,\n        \"max\": 289.0,\n        \"num_unique_values\": 135,\n        \"samples\": [\n          77.5,\n          65.0,\n          128.0\n        ],\n        \"semantic_type\": \"\",\n        \"description\": \"\"\n      }\n    },\n    {\n      \"column\": \"total sulfur dioxide\",\n      \"properties\": {\n        \"dtype\": \"number\",\n        \"std\": 56.521854522630264,\n        \"min\": 6.0,\n        \"max\": 440.0,\n        \"num_unique_values\": 276,\n        \"samples\": [\n          14.0,\n          149.0,\n          227.0\n        ],\n        \"semantic_type\": \"\",\n        \"description\": \"\"\n      }\n    },\n    {\n      \"column\": \"density\",\n      \"properties\": {\n        \"dtype\": \"number\",\n        \"std\": 0.002998673003719041,\n        \"min\": 0.98711,\n        \"max\": 1.03898,\n        \"num_unique_values\": 998,\n        \"samples\": [\n          0.9918,\n          0.99412,\n          0.99484\n        ],\n        \"semantic_type\": \"\",\n        \"description\": \"\"\n      }\n    },\n    {\n      \"column\": \"pH\",\n      \"properties\": {\n        \"dtype\": \"number\",\n        \"std\": 0.1607872021039883,\n        \"min\": 2.72,\n        \"max\": 4.01,\n        \"num_unique_values\": 108,\n        \"samples\": [\n          3.74,\n          3.17,\n          3.3\n        ],\n        \"semantic_type\": \"\",\n        \"description\": \"\"\n      }\n    },\n    {\n      \"column\": \"sulphates\",\n      \"properties\": {\n        \"dtype\": \"number\",\n        \"std\": 0.14880587361448958,\n        \"min\": 0.22,\n        \"max\": 2.0,\n        \"num_unique_values\": 111,\n        \"samples\": [\n          1.11,\n          1.56,\n          0.46\n        ],\n        \"semantic_type\": \"\",\n        \"description\": \"\"\n      }\n    },\n    {\n      \"column\": \"alcohol\",\n      \"properties\": {\n        \"dtype\": \"number\",\n        \"std\": 1.192711748870997,\n        \"min\": 8.0,\n        \"max\": 14.9,\n        \"num_unique_values\": 111,\n        \"samples\": [\n          10.9333333333333,\n          9.7,\n          10.5\n        ],\n        \"semantic_type\": \"\",\n        \"description\": \"\"\n      }\n    },\n    {\n      \"column\": \"quality\",\n      \"properties\": {\n        \"dtype\": \"number\",\n        \"std\": 0,\n        \"min\": 3,\n        \"max\": 9,\n        \"num_unique_values\": 7,\n        \"samples\": [\n          5,\n          6,\n          3\n        ],\n        \"semantic_type\": \"\",\n        \"description\": \"\"\n      }\n    },\n    {\n      \"column\": \"wine_type\",\n      \"properties\": {\n        \"dtype\": \"number\",\n        \"std\": 0,\n        \"min\": 0,\n        \"max\": 1,\n        \"num_unique_values\": 2,\n        \"samples\": [\n          0,\n          1\n        ],\n        \"semantic_type\": \"\",\n        \"description\": \"\"\n      }\n    }\n  ]\n}"
            }
          },
          "metadata": {},
          "execution_count": 95
        }
      ]
    },
    {
      "cell_type": "markdown",
      "source": [
        "# Observations on data duplication\n",
        "Duplicated instances might lead to data leakage in which after dataset splitting into training and test sets, there might be identical records in both splitted sets. The model also becomes too specialized to the training data, including the duplicated instances, which will cause the problem of overfitting.\n",
        "Furthermore, there'd be additional elaboration cost of redundant data."
      ],
      "metadata": {
        "id": "MJoMtuKyAqyu"
      }
    },
    {
      "cell_type": "markdown",
      "source": [
        "Remove duplicates"
      ],
      "metadata": {
        "id": "d3gKMiGA_gdY"
      }
    },
    {
      "cell_type": "code",
      "source": [
        "#wine_quality.info() # initial enteries 6497\n",
        "wine_quality = wine_quality.drop_duplicates(keep='first')\n",
        "wine_quality.info()"
      ],
      "metadata": {
        "colab": {
          "base_uri": "https://localhost:8080/"
        },
        "id": "_s4QyLes_itv",
        "outputId": "e465fcf4-b5f8-4834-aa67-6a29ac588686"
      },
      "execution_count": 96,
      "outputs": [
        {
          "output_type": "stream",
          "name": "stdout",
          "text": [
            "<class 'pandas.core.frame.DataFrame'>\n",
            "Index: 5320 entries, 0 to 6496\n",
            "Data columns (total 13 columns):\n",
            " #   Column                Non-Null Count  Dtype  \n",
            "---  ------                --------------  -----  \n",
            " 0   fixed acidity         5320 non-null   float64\n",
            " 1   volatile acidity      5320 non-null   float64\n",
            " 2   citric acid           5320 non-null   float64\n",
            " 3   residual sugar        5320 non-null   float64\n",
            " 4   chlorides             5320 non-null   float64\n",
            " 5   free sulfur dioxide   5320 non-null   float64\n",
            " 6   total sulfur dioxide  5320 non-null   float64\n",
            " 7   density               5320 non-null   float64\n",
            " 8   pH                    5320 non-null   float64\n",
            " 9   sulphates             5320 non-null   float64\n",
            " 10  alcohol               5320 non-null   float64\n",
            " 11  quality               5320 non-null   int64  \n",
            " 12  wine_type             5320 non-null   int64  \n",
            "dtypes: float64(11), int64(2)\n",
            "memory usage: 581.9 KB\n"
          ]
        }
      ]
    },
    {
      "cell_type": "markdown",
      "source": [
        "# Observations on data distribution within quality's values\n",
        "As we can notice, the range of values for our target column \"quality\" is [3:9] inclusive.\n",
        "But we have a clear imbalance within quality's values \"less data examples for extremely low or extremely high values\" (like quality 3, 4, 8, or 9), meanwhile for middle values, we apparently have the majority of examples.\n",
        "\n",
        "When we convert the continuous 'quality' score into a binary classification problem \"good\" (quality ≥ 6) or \"bad\" (quality < 6), we're essentially creating two classes for the label quality:\n",
        "\n",
        "  * \"Bad [0]\" class: Quality scores of 3, 4, 5. (represent 37% of the whole dataset).\n",
        "  * \"Good [1]\" class: Quality scores of 6, 7, 8, 9 (represent 63% of the whole dataset).\n",
        "\n",
        "We can clearly notice the imbalance with the data distribution over our two classes. Imbalanced data tends to be biased towards the majority class because it sees more examples of it. The model will struggle to correctly identify instances of the minority class.\n",
        "\n",
        "### In case of SVM:\n",
        "  In an imbalanced dataset, the majority class has many more data points. Consequently, the support vectors that define the decision boundary are dominated by instances from the majority class. Since the SVM algorithm's primary objective is to maximize the margin. The decision boundary (hyperplane) gets pushed towards the minority class; therefore, many instances of the minority class could be incorrectly classified as the majority class.\n",
        "\n",
        "### In case of Logistic Regression:\n",
        "The input space corresponding to these extremely low or extremely high quality scores will have very few data points, creating sparse regions. The model will learn to predict higher probabilities for the more frequent classes, assigning heigher weights to them. The decision boundary will be positioned to minimize overall prediction errors. Since errors on the majority class contribute more to the total loss, the model will prioritize correctly classifying the majority class instances, potentially pushing the boundary away from the minority class.\n",
        "\n",
        "## Possible solutions:\n",
        "* Data augumentation: Oversampling of the minority class through creating new relevant synthetic (not duplicated) samples, in order to enhance the presence of the minor class in the whole dataset.\n",
        "* Weights Regularization: Regularizing the weights assigned to the minority class's instance, in order to mitigate the problem of imbalanced dataset and to give more importance to the less frequent class."
      ],
      "metadata": {
        "id": "WgNynYijPRP4"
      }
    },
    {
      "cell_type": "code",
      "source": [
        "X = wine_quality.drop(columns='quality').values\n",
        "#y = wine_quality['quality'].values #(array([3, 4, 5, 6, 7, 8, 9]), array([  30,  206, 1752, 2323,  856,  148,    5]))\n",
        "\n",
        "#Map to binary values for column \"quality\" as \"good=1\" (quality ≥ 6) or \"bad=0\" (quality < 6)\n",
        "y = np.where(wine_quality['quality'] >= 6, 1, 0) #1988, 3332\n",
        "\n",
        "print(f'Wine unique values: {np.unique(y, return_counts=True)}')"
      ],
      "metadata": {
        "colab": {
          "base_uri": "https://localhost:8080/"
        },
        "id": "0KpnVkcK1cZ9",
        "outputId": "f17a9a03-6aeb-48f1-f7e0-c56273fb805c"
      },
      "execution_count": 97,
      "outputs": [
        {
          "output_type": "stream",
          "name": "stdout",
          "text": [
            "Wine unique values: (array([0, 1]), array([1988, 3332]))\n"
          ]
        }
      ]
    },
    {
      "cell_type": "markdown",
      "source": [
        "#Observations on feature scaling\n",
        "Some features (ex. residual sugar, free sulfur dioxide, total sulfur dioxide, ...) which have high difference between the minumum and maximum values, will need to be standardized on the same scale.\n",
        "Especially in case of models that aim to find an optimal hyperplane (ex. SVM) that maximizes the margin between different classes. The calculation of this margin and the positioning of the hyperplane rely on the distances between data points in the feature space."
      ],
      "metadata": {
        "id": "xLHmBA02xCCd"
      }
    },
    {
      "cell_type": "code",
      "source": [
        "minMax_feature_values = zip(wine_quality.columns, wine_quality.min(), wine_quality.max())\n",
        "print(f'Minimum/Maximum values for each feature: {list(minMax_feature_values)}')\n"
      ],
      "metadata": {
        "colab": {
          "base_uri": "https://localhost:8080/"
        },
        "id": "U7_2mZeVugDb",
        "outputId": "0e270b48-9aed-4467-9902-b387c53a9b4c"
      },
      "execution_count": 98,
      "outputs": [
        {
          "output_type": "stream",
          "name": "stdout",
          "text": [
            "Minimum/Maximum values for each feature: [('fixed acidity', 3.8, 15.9), ('volatile acidity', 0.08, 1.58), ('citric acid', 0.0, 1.66), ('residual sugar', 0.6, 65.8), ('chlorides', 0.009, 0.611), ('free sulfur dioxide', 1.0, 289.0), ('total sulfur dioxide', 6.0, 440.0), ('density', 0.98711, 1.03898), ('pH', 2.72, 4.01), ('sulphates', 0.22, 2.0), ('alcohol', 8.0, 14.9), ('quality', 3.0, 9.0), ('wine_type', 0.0, 1.0)]\n"
          ]
        }
      ]
    },
    {
      "cell_type": "code",
      "source": [
        "#Set a value in random_state to ensure reproducibility of data split\n",
        "X_train, X_test, y_train, y_test = train_test_split(X, y, test_size=0.30, random_state=42, stratify=y)\n",
        "print(f'shape {X_train.shape}\\n', X_train)"
      ],
      "metadata": {
        "id": "aTLzOE383j2x",
        "outputId": "d61c7bdb-1039-4a89-89c1-43693734cc7e",
        "colab": {
          "base_uri": "https://localhost:8080/"
        }
      },
      "execution_count": 112,
      "outputs": [
        {
          "output_type": "stream",
          "name": "stdout",
          "text": [
            "shape (3724, 12)\n",
            " [[ 6.4   0.23  0.26 ...  0.49  9.4   0.  ]\n",
            " [ 6.7   0.44  0.31 ...  0.62 12.6   0.  ]\n",
            " [ 7.1   0.27  0.24 ...  0.56 10.    0.  ]\n",
            " ...\n",
            " [ 6.6   0.28  0.34 ...  0.37 12.5   0.  ]\n",
            " [ 7.3   0.25  0.36 ...  0.4  11.9   0.  ]\n",
            " [ 7.3   0.28  0.42 ...  0.43 10.7   0.  ]]\n"
          ]
        }
      ]
    },
    {
      "cell_type": "markdown",
      "source": [
        "#Apply StandardScaler\n",
        "standard_scaler.fit_transform() is used to compute mean the mean (μ) and standard deviation (σ) for each feature on the training data and then to rescale the training data.\n",
        "The testing data are directly rescaled through standard_scaler.transform() using the parameters computed on the training data."
      ],
      "metadata": {
        "id": "RVviMbOl1QW9"
      }
    },
    {
      "cell_type": "code",
      "source": [
        "standard_scaler = preprocessing.StandardScaler()\n",
        "X_train_standard = standard_scaler.fit_transform(X_train)\n",
        "X_test_standard = standard_scaler.transform(X_test)\n",
        "\n",
        "#Manual standardization using numpy\n",
        "# mean_val = np.mean(X_train, axis=0)\n",
        "# std_val = np.std(X_train, axis=0)\n",
        "# std_val[std_val == 0] = 1.0\n",
        "\n",
        "# X_train_standard = (X_test - mean_val) / std_val\n",
        "# X_test_standard = (X_test - mean_val) / std_val\n",
        "\n",
        "#print(f'scaled X_train_standard instances:{X_train_standard}\\n scaled X_test_standard intances:{X_test_standard}')\n",
        "minMax_feature_values = zip(wine_quality.drop(columns='quality').columns, X_train_standard.min(axis=1), X_train_standard.max(axis=1))\n",
        "print(f'Minimum/Maximum values for each feature: {list(minMax_feature_values)}')"
      ],
      "metadata": {
        "id": "G8ZkEzPV1Pxw",
        "outputId": "a6e618d6-f0a6-4de8-b13c-e6a875041794",
        "colab": {
          "base_uri": "https://localhost:8080/"
        }
      },
      "execution_count": 113,
      "outputs": [
        {
          "output_type": "stream",
          "name": "stdout",
          "text": [
            "Minimum/Maximum values for each feature: [('fixed acidity', np.float64(-0.9612957617687872), np.float64(1.186898327025961)), ('volatile acidity', np.float64(-1.5299998848943508), np.float64(1.728653259834898)), ('citric acid', np.float64(-1.1559898071281451), np.float64(1.6527145406698966)), ('residual sugar', np.float64(-0.9160690324790534), np.float64(2.0664846775154397)), ('chlorides', np.float64(-1.2975393894692482), np.float64(1.2748569620749088)), ('free sulfur dioxide', np.float64(-1.4701018269379915), np.float64(2.064896887535359)), ('total sulfur dioxide', np.float64(-1.1726107014824099), np.float64(1.0822550904236636)), ('density', np.float64(-0.9612957617687872), np.float64(1.971324670228078)), ('pH', np.float64(-0.9612957617687872), np.float64(1.6710058924085973)), ('sulphates', np.float64(-1.0939317402431505), np.float64(0.8847883576461213)), ('alcohol', np.float64(-1.6981449025795285), np.float64(2.5864922780872805)), ('wine_type', np.float64(-1.64536972155016), np.float64(1.6710058924085973))]\n"
          ]
        }
      ]
    },
    {
      "cell_type": "markdown",
      "source": [
        "Should we apply PCA?\n",
        "\n",
        "To extract only important features and reduce the dimensionality, therefore reducing the traing cost.\n",
        "It could be needed, if we notice overfitting caused by irrelevant features."
      ],
      "metadata": {
        "id": "wKpQMuQGmwBc"
      }
    },
    {
      "cell_type": "code",
      "source": [
        "svm = SVM()\n",
        "svm.fit(X_train_standard, y_train)\n",
        "predictions = svm.predict(X_test_standard)\n",
        "#svm.fit(X_train, y_train)\n",
        "#predictions = svm.predict(X_test)\n",
        "accuracy = np.sum(predictions == y_test) / len(y_test)\n",
        "print(f'Acc.:{accuracy}')\n",
        "\n",
        "#print(inspect.signature(svm.visualize_svm))\n",
        "\n",
        "svm.visualize_svm(X, y)"
      ],
      "metadata": {
        "id": "6s1EOWm2pXlp",
        "outputId": "e3bb6008-8514-4206-92cb-c212d92d2e6b",
        "colab": {
          "base_uri": "https://localhost:8080/",
          "height": 465
        }
      },
      "execution_count": 128,
      "outputs": [
        {
          "output_type": "stream",
          "name": "stdout",
          "text": [
            "Acc.:0.0\n"
          ]
        },
        {
          "output_type": "display_data",
          "data": {
            "text/plain": [
              "<Figure size 640x480 with 0 Axes>"
            ]
          },
          "metadata": {}
        },
        {
          "output_type": "display_data",
          "data": {
            "text/plain": [
              "<Figure size 640x480 with 1 Axes>"
            ],
            "image/png": "[encoded data removed]"
          },
          "metadata": {}
        }
      ]
    },
    {
      "cell_type": "code",
      "source": [
        "lr = LogisticRegression()\n",
        "lr.fit(X_train_standard, y_train)\n",
        "predictions = lr.predict(X_test_standard)\n",
        "#lr.fit(X_train, y_train)\n",
        "#predictions = lr.predict(X_test)\n",
        "accuracy = np.sum(predictions == y_test) / len(y_test)\n",
        "print(f'Acc.:{accuracy}')\n",
        "\n",
        "#print(inspect.signature(lr.visualize_svm))\n",
        "\n",
        "lr.visualize_LR(X, y)"
      ],
      "metadata": {
        "id": "u7x_ZQqJS47V",
        "outputId": "444ab7e9-ba69-401a-eb8a-f12fcea0d55c",
        "colab": {
          "base_uri": "https://localhost:8080/",
          "height": 465
        }
      },
      "execution_count": 126,
      "outputs": [
        {
          "output_type": "stream",
          "name": "stdout",
          "text": [
            "Acc.:0.7149122807017544\n"
          ]
        },
        {
          "output_type": "display_data",
          "data": {
            "text/plain": [
              "<Figure size 640x480 with 0 Axes>"
            ]
          },
          "metadata": {}
        },
        {
          "output_type": "display_data",
          "data": {
            "text/plain": [
              "<Figure size 640x480 with 1 Axes>"
            ],
            "image/png": "[encoded data removed]"
          },
          "metadata": {}
        }
      ]
    }
  ],
  "metadata": {
    "kernelspec": {
      "display_name": "Python 3",
      "language": "python",
      "name": "python3"
    },
    "language_info": {
      "codemirror_mode": {
        "name": "ipython",
        "version": 3
      },
      "file_extension": ".py",
      "mimetype": "text/x-python",
      "name": "python",
      "nbconvert_exporter": "python",
      "pygments_lexer": "ipython3",
      "version": "3.11.5"
    },
    "colab": {
      "provenance": []
    }
  },
  "nbformat": 4,
  "nbformat_minor": 0
}